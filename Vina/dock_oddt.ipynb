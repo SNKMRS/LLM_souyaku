{
 "cells": [
  {
   "cell_type": "code",
   "execution_count": 4,
   "metadata": {},
   "outputs": [],
   "source": [
    "import oddt\n",
    "from oddt import toolkit\n",
    "from oddt.docking import AutodockVina\n",
    "from tqdm.notebook import tqdm\n",
    "import pickle\n",
    "import pandas as pd\n",
    "from rdkit import Chem"
   ]
  },
  {
   "cell_type": "code",
   "execution_count": 2,
   "metadata": {},
   "outputs": [],
   "source": [
    "protein = next(oddt.toolkit.readfile('pdb', './8gcy_receptor_prep.pdb'))\n",
    "protein.protein = True"
   ]
  },
  {
   "cell_type": "code",
   "execution_count": 3,
   "metadata": {},
   "outputs": [],
   "source": [
    "ligand = next(oddt.toolkit.readfile('mol2', './8gcy_ligand_prep.mol2'))"
   ]
  },
  {
   "cell_type": "code",
   "execution_count": 4,
   "metadata": {},
   "outputs": [],
   "source": [
    "test_docking = AutodockVina.autodock_vina(protein=protein, size=(20, 20,20), center=(2.208, 8.406, 18.575),\n",
    "                                          exhaustiveness=8, num_modes=9, energy_range=3,\n",
    "                                          executable='/usr/autodock_vina_1_1_2_linux_x86/bin/vina')"
   ]
  },
  {
   "cell_type": "code",
   "execution_count": 9,
   "metadata": {},
   "outputs": [],
   "source": [
    "dockin_reslut = test_docking.dock(ligand)"
   ]
  },
  {
   "cell_type": "code",
   "execution_count": 10,
   "metadata": {},
   "outputs": [
    {
     "data": {
      "text/plain": [
       "9"
      ]
     },
     "execution_count": 10,
     "metadata": {},
     "output_type": "execute_result"
    }
   ],
   "source": [
    "len(dockin_reslut)"
   ]
  },
  {
   "cell_type": "code",
   "execution_count": 11,
   "metadata": {},
   "outputs": [
    {
     "data": {
      "text/plain": [
       "list"
      ]
     },
     "execution_count": 11,
     "metadata": {},
     "output_type": "execute_result"
    }
   ],
   "source": [
    "type(dockin_reslut)"
   ]
  },
  {
   "cell_type": "code",
   "execution_count": 12,
   "metadata": {},
   "outputs": [
    {
     "data": {
      "text/plain": [
       "['vina_affinity',\n",
       " 'vina_rmsd_lb',\n",
       " 'vina_rmsd_ub',\n",
       " 'vina_rmsd_input',\n",
       " 'vina_rmsd_input_min']"
      ]
     },
     "execution_count": 12,
     "metadata": {},
     "output_type": "execute_result"
    }
   ],
   "source": [
    "dockin_reslut[0].data.keys()"
   ]
  },
  {
   "cell_type": "code",
   "execution_count": 14,
   "metadata": {},
   "outputs": [
    {
     "name": "stdout",
     "output_type": "stream",
     "text": [
      "-11.3\n",
      "-10.4\n",
      "-10.1\n",
      "-9.3\n",
      "-8.8\n",
      "-8.8\n",
      "-8.5\n",
      "-8.3\n",
      "-8.3\n"
     ]
    }
   ],
   "source": [
    "for result in dockin_reslut:\n",
    "    print(result.data['vina_affinity'])"
   ]
  },
  {
   "cell_type": "code",
   "execution_count": 4,
   "metadata": {},
   "outputs": [
    {
     "data": {
      "application/vnd.jupyter.widget-view+json": {
       "model_id": "c5c82beca4dd4cc6a208a62e8a336d09",
       "version_major": 2,
       "version_minor": 0
      },
      "text/plain": [
       "0it [00:00, ?it/s]"
      ]
     },
     "metadata": {},
     "output_type": "display_data"
    },
    {
     "name": "stdout",
     "output_type": "stream",
     "text": [
      "total_time 11742.967827796936\n"
     ]
    }
   ],
   "source": [
    "protein = next(oddt.toolkit.readfile('pdb', './8gcy_receptor_prep.pdb'))\n",
    "protein.protein = True\n",
    "sdf_file = 'CBLB_inhibitors_vsF.sdf'\n",
    "dock_conf = AutodockVina.autodock_vina(protein=protein, size=(20, 20,20), center=(2.208, 8.406, 18.575),\n",
    "                                       exhaustiveness=8, num_modes=9, energy_range=3, n_cpu=8,\n",
    "                                       executable='/usr/autodock_vina_1_1_2_linux_x86/bin/vina')\n",
    "\n",
    "docking_results = []\n",
    "for mol in tqdm(oddt.toolkit.readfile('sdf', sdf_file)):\n",
    "    dock_result = dock_conf.dock(mol)\n",
    "    docking_results.append(dock_result)\n",
    "\n",
    "with open('./docking_results.pickle', 'wb') as fp:   #Pickling\n",
    "    pickle.dump(docking_results, fp)"
   ]
  },
  {
   "cell_type": "code",
   "execution_count": null,
   "metadata": {},
   "outputs": [],
   "source": [
    "# idx_affinity = [] # tuple, (idx of molecule in sdf file, best vina_affinity)\n",
    "# for i, result in enumerate(docking_results):\n",
    "#     aff = result[0].data['vina_affinity']\n",
    "#     idx_affinity.append(i, aff)\n"
   ]
  },
  {
   "cell_type": "code",
   "execution_count": 5,
   "metadata": {},
   "outputs": [],
   "source": [
    "sdf_file = 'CBLB_inhibitors_vsF.sdf'\n",
    "\n",
    "with open('./docking_results.pickle', 'rb') as p:\n",
    "    docking_results = pickle.load(p)\n",
    "\n",
    "# vina_affinityのtopを取り出す\n",
    "best_affinities = []\n",
    "for result in docking_results:\n",
    "    affinity = result[0].data['vina_affinity']\n",
    "    best_affinities.append(affinity)\n",
    "    \n",
    "# SDFから化合物を読み込み\n",
    "suppl = Chem.SDMolSupplier(sdf_file)\n",
    "\n",
    "# SMILESのリスト作成\n",
    "ligand_smis = [Chem.MolToSmiles(mol) for mol in suppl if mol is not None]\n",
    "\n",
    "# dataframeにしてcsvを出力\n",
    "df = pd.DataFrame(list(zip(ligand_smis, best_affinities)), columns =['SMILES', 'vina_affinity'])\n",
    "df.to_csv('docking_output.csv', index=False)"
   ]
  },
  {
   "cell_type": "code",
   "execution_count": 9,
   "metadata": {},
   "outputs": [],
   "source": [
    "\n"
   ]
  }
 ],
 "metadata": {
  "kernelspec": {
   "display_name": "Python 3 (ipykernel)",
   "language": "python",
   "name": "python3"
  },
  "language_info": {
   "codemirror_mode": {
    "name": "ipython",
    "version": 3
   },
   "file_extension": ".py",
   "mimetype": "text/x-python",
   "name": "python",
   "nbconvert_exporter": "python",
   "pygments_lexer": "ipython3",
   "version": "3.10.9"
  }
 },
 "nbformat": 4,
 "nbformat_minor": 2
}
