{
 "cells": [
  {
   "cell_type": "code",
   "execution_count": 2,
   "metadata": {},
   "outputs": [],
   "source": [
    "import pickle\n",
    "import pandas as pd"
   ]
  },
  {
   "cell_type": "code",
   "execution_count": 3,
   "metadata": {},
   "outputs": [
    {
     "name": "stdout",
     "output_type": "stream",
     "text": [
      "dict_keys([0, 1, 2, 3, 4, 5, 6, 7, 8, 9, 10, 11, 12, 13, 14, 15, 16, 17, 18, 19, 20, 21, 22, 23, 24, 25, 26, 27, 28, 29, 30, 31, 32, 33, 34, 35, 36, 37, 38, 39, 40, 41, 42, 43, 44, 45, 46, 47, 48, 49, 50, 51, 52, 53, 54, 55, 56, 57, 58, 59, 60, 61, 62, 63, 64, 65, 66, 67, 68, 69, 70, 71, 72, 73, 74, 75, 76, 77, 78, 79, 80, 81, 82, 83, 84, 85, 86, 87, 88, 89, 90, 91, 92, 93, 94, 95, 96, 97, 98, 99, 100, 101, 102, 103, 104, 105, 106, 107, 108, 109, 110, 111, 112, 113, 114, 115, 116, 117, 118, 119, 120, 121, 122, 123, 124, 125, 126, 127, 128, 129, 130, 131, 132, 133, 134, 135, 136, 137, 138, 139, 140, 141, 142, 143, 144, 145, 146, 147, 148, 149, 150, 151, 152, 153, 154, 155, 156, 157, 158, 159, 160, 161, 162, 163, 164, 165, 166, 167, 168, 169, 170, 171, 172, 173, 174, 175, 176, 177, 178, 179, 180, 181, 182, 183, 184, 185, 186, 187, 188, 189, 190, 191, 192, 193, 194, 195, 196, 197, 198, 199, 200, 201, 202, 203, 204, 205, 206, 207, 208, 209, 210, 211, 212, 213, 214, 215, 216, 217, 218, 219, 220, 221, 222, 223, 224, 225, 226, 227, 228, 229, 230, 231, 232, 233, 234, 235, 236, 237, 238, 239, 240, 241, 242, 243, 244, 245, 246, 247, 248, 249, 250, 251, 252, 253, 254, 255, 256, 257, 258, 259, 260, 261, 262, 263, 264, 265, 266, 267, 268, 269, 270, 271, 272, 273, 274, 275, 276, 277, 278, 279, 280, 281, 282, 283, 284, 285, 286, 287, 288, 289, 290, 291, 292, 293, 294, 295, 296, 297])\n",
      "[['Cn1cnnc1CNc1cccc(CN=CC(F)(F)F)c1', 'Cn1cnnc1Cc1cccc(F)c1', 'CCc1cccc(NC(Nc2ccccc2)c2nncn2C)c1', 'CC(C1=NN=CCN1)c1cccc(NC(=O)Nc2ccccc2)c1', 'CC(C1=NN=CCN1)c1cncc(NC(=O)Nc2ccccc2)c1', 'O=C(NC1=CC1)Nc1ccccc1', 'CC(SC1=NOCN1C)c1cccc(NC(=O)Nc2ccccc2)c1', 'CN1CON=C1SCCC=CC=CCC(=O)Nc1ccccc1', 'Cn1cnnc1ONCc1cccc(C2COC2)c1', 'Cn1cnnc1ONCc1cccc(N2COC2)c1', 'CCCC(NC)c1nncn1C', 'CCCC(CC)c1nncn1C', 'CC(Sc1nncn1C)C1=CC(NC(=O)Nc2ccccc2)=CCC1', 'CC1C=NN=C1SC(C)c1cccc(NC(=O)Nc2ccccc2)c1', 'Cn1cnnc1CCC=CCN1CCCC1=O', 'Cn1cnnc1CC=CCN1CCCC1=O', 'Cn1cnnc1NCC=CCN1CCCC1=O', 'Cn1cnnc1NCC=CCN1CCSC1=O', 'CC=CC=CCC(=O)Nc1cccc(C(C)Sc2nncn2C)c1', 'CC(Sc1nncn1C)c1cccc(C2=CCC=N2)c1', 'O=C1CCCc2cccc(c2)N1CF', 'CC(Sc1cncn1C)c1cccc(CC(=O)Nc2ccccc2)c1', 'CN(Sc1cncn1C)c1cccc(CC(=O)Nc2ccccc2)c1', 'C=CNC(=O)Cc1cccc(N(C)Sc2cncn2C)c1', 'CC(Sc1nncn1C)c1cccc(NC(=O)NC2=CCCC=C2)c1', 'Cn1cnnc1SCc1cccc(NC(=O)NC2=CC=C=C=C2)c1', 'CC(C)Cn1ccc(-c2cccc(C=O)c2)cnc(C(F)(F)F)cc1', 'Cn1ccc(-c2cccc(C=O)c2)cnc(C(F)(F)F)cc1', 'Cn1ccc(-c2cccc(C=O)c2)cnc(C(F)(F)F)cn1'], [0.17055544578974033, 0.1605739619125236, 0.029216066375716342, -0.1512662283586243, -0.07316552344745766, -0.08467334980982821, -0.20423962177109117, 0.009926866258011332, 0.17239741972134998, 0.19577186225177012, 0.10205826090297021, 0.10902727011846824, -0.09503105409720432, -0.24186268810486067, 0.10788702925573823, 0.11088806065618667, 0.11168938752757344, 0.12045524521518577, -0.02962713313655896, 0.0564251008729512, 0.10040705862388588, -0.08394666330033733, -0.024211999433877644, 0.0865393038335525, -0.07420929714883062, 0.021243136494014936, 0.1397507006746338, 0.14838092067564365, 0.14893106366777822], [2.9105161106538127, 2.177238662615215, 2.8630361848805634, 3.141086863920366, 3.3780044463379477, 2.017971142940219, 3.0811850763267694, 3.226100737382559, 3.1411748176503913, 3.313838873594447, 3.2180837931663584, 3.124143933026497, 3.317646614788309, 3.3734402811730977, 2.859360459391578, 2.970924729528935, 3.134167052798171, 3.424749784352331, 3.2509265988912768, 3.4533130307670294, 3.4791700153039784, 2.80491584555754, 2.6393166207920284, 3.3768850806668507, 3.287406230172924, 3.432801595198809, 2.9857997920458352, 2.9280493789257864, 2.9854836790518906]]\n",
      "298\n"
     ]
    }
   ],
   "source": [
    "with open('./BEST_MEDN/medn_filt_0.pickle', 'rb') as p:\n",
    "    collect_filt = pickle.load(p)\n",
    "    \n",
    "print(collect_filt.keys())  # keys:triplet_ids\n",
    "print(collect_filt[1])  # values: [[SMILES_list], [sim_score_list]]\n",
    "print(len(collect_filt))"
   ]
  },
  {
   "cell_type": "code",
   "execution_count": 4,
   "metadata": {},
   "outputs": [
    {
     "name": "stdout",
     "output_type": "stream",
     "text": [
      "181880\n",
      "181880\n"
     ]
    }
   ],
   "source": [
    "smi_list, score_list = [], []\n",
    "for i in range(22):\n",
    "    with open(f'./BEST_MEDN/medn_filt_{i}.pickle', 'rb') as p:\n",
    "        collect_filt = pickle.load(p)\n",
    "    for j in range(len(collect_filt)):\n",
    "        for smi, score in zip(collect_filt[j][0], collect_filt[j][1]):\n",
    "            smi_list.append(smi)\n",
    "            score_list.append(score)\n",
    "print(len(smi_list))\n",
    "print(len(score_list))"
   ]
  },
  {
   "cell_type": "code",
   "execution_count": 5,
   "metadata": {},
   "outputs": [
    {
     "data": {
      "text/plain": [
       "6807"
      ]
     },
     "execution_count": 5,
     "metadata": {},
     "output_type": "execute_result"
    }
   ],
   "source": [
    "data = {'SMILES': smi_list, 'sim_score': score_list}\n",
    "\n",
    "# DataFrameを作成\n",
    "df = pd.DataFrame(data)\n",
    "\n",
    "df_scorefilt = df[df['sim_score'] > 0.3]\n",
    "\n",
    "len(df_scorefilt)"
   ]
  },
  {
   "cell_type": "code",
   "execution_count": 6,
   "metadata": {},
   "outputs": [
    {
     "data": {
      "text/html": [
       "<div>\n",
       "<style scoped>\n",
       "    .dataframe tbody tr th:only-of-type {\n",
       "        vertical-align: middle;\n",
       "    }\n",
       "\n",
       "    .dataframe tbody tr th {\n",
       "        vertical-align: top;\n",
       "    }\n",
       "\n",
       "    .dataframe thead th {\n",
       "        text-align: right;\n",
       "    }\n",
       "</style>\n",
       "<table border=\"1\" class=\"dataframe\">\n",
       "  <thead>\n",
       "    <tr style=\"text-align: right;\">\n",
       "      <th></th>\n",
       "      <th>SMILES</th>\n",
       "      <th>sim_score</th>\n",
       "    </tr>\n",
       "  </thead>\n",
       "  <tbody>\n",
       "    <tr>\n",
       "      <th>67</th>\n",
       "      <td>CC(c1cccc(NC(=O)c2c3ccnc2-3)c1)c1nncn1C</td>\n",
       "      <td>0.319525</td>\n",
       "    </tr>\n",
       "    <tr>\n",
       "      <th>334</th>\n",
       "      <td>CC(Cc1nncn1C)c1cccc(NC(=O)c2cccc(F)c2)c1</td>\n",
       "      <td>0.305364</td>\n",
       "    </tr>\n",
       "    <tr>\n",
       "      <th>340</th>\n",
       "      <td>CC(Nc1nncn1C)c1cccc(NC(=O)c2cc(CC(F)(F)F)ccn2)c1</td>\n",
       "      <td>0.330701</td>\n",
       "    </tr>\n",
       "    <tr>\n",
       "      <th>356</th>\n",
       "      <td>CC(Cc1nncn1F)c1cccc(NC(=O)c2cc(F)ccn2)c1</td>\n",
       "      <td>0.343980</td>\n",
       "    </tr>\n",
       "    <tr>\n",
       "      <th>642</th>\n",
       "      <td>CC(Cc1nncn1C)c1ccc(C=O)c(NC(=O)c2cccc(C3CC3)c2)c1</td>\n",
       "      <td>0.327977</td>\n",
       "    </tr>\n",
       "  </tbody>\n",
       "</table>\n",
       "</div>"
      ],
      "text/plain": [
       "                                                SMILES  sim_score\n",
       "67             CC(c1cccc(NC(=O)c2c3ccnc2-3)c1)c1nncn1C   0.319525\n",
       "334           CC(Cc1nncn1C)c1cccc(NC(=O)c2cccc(F)c2)c1   0.305364\n",
       "340   CC(Nc1nncn1C)c1cccc(NC(=O)c2cc(CC(F)(F)F)ccn2)c1   0.330701\n",
       "356           CC(Cc1nncn1F)c1cccc(NC(=O)c2cc(F)ccn2)c1   0.343980\n",
       "642  CC(Cc1nncn1C)c1ccc(C=O)c(NC(=O)c2cccc(C3CC3)c2)c1   0.327977"
      ]
     },
     "execution_count": 6,
     "metadata": {},
     "output_type": "execute_result"
    }
   ],
   "source": [
    "df_scorefilt.head()"
   ]
  },
  {
   "cell_type": "code",
   "execution_count": null,
   "metadata": {},
   "outputs": [],
   "source": [
    "for i, smi in enumerate(df_scorefilt['SMILES']):\n",
    "    num = '{:05d}'.format(i)\n",
    "    with open(f'./stoned_smis/ligand{num}.smi', 'w') as f:\n",
    "        f.write(smi)"
   ]
  }
 ],
 "metadata": {
  "kernelspec": {
   "display_name": "stoned",
   "language": "python",
   "name": "python3"
  },
  "language_info": {
   "codemirror_mode": {
    "name": "ipython",
    "version": 3
   },
   "file_extension": ".py",
   "mimetype": "text/x-python",
   "name": "python",
   "nbconvert_exporter": "python",
   "pygments_lexer": "ipython3",
   "version": "3.10.10"
  },
  "orig_nbformat": 4
 },
 "nbformat": 4,
 "nbformat_minor": 2
}
